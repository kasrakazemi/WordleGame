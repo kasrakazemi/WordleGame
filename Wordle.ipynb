{
 "cells": [
  {
   "cell_type": "code",
   "execution_count": null,
   "id": "7a7e8197",
   "metadata": {},
   "outputs": [],
   "source": [
    "import nltk\n",
    "import time\n",
    "from termcolor import colored"
   ]
  },
  {
   "cell_type": "code",
   "execution_count": null,
   "id": "e18790e7",
   "metadata": {},
   "outputs": [],
   "source": [
    "# Download words from corpora tab\n",
    "nltk.download()"
   ]
  },
  {
   "cell_type": "code",
   "execution_count": null,
   "id": "902dc4a4",
   "metadata": {},
   "outputs": [],
   "source": [
    "from nltk.corpus import words\n",
    "words = words.words()"
   ]
  },
  {
   "cell_type": "code",
   "execution_count": null,
   "id": "24df5cbe",
   "metadata": {},
   "outputs": [],
   "source": [
    "Instruction= colored('Instruction:\\n', 'blue', attrs=['bold'])\n",
    "Instruction_body= colored('1: use one of the words that will showen below\\n2: get response of the game and determine letters that are in and not in the game\\n3: repeat level 2 until reach the answer', 'grey', attrs=['bold'])\n",
    "print(Instruction)\n",
    "print(Instruction_body)"
   ]
  },
  {
   "cell_type": "code",
   "execution_count": null,
   "id": "3b30e7c5",
   "metadata": {},
   "outputs": [],
   "source": [
    "StartGame= colored('Please start with one of these words:\\n\\n anise \\n agile \\n aisle \\n aides \\n abide', 'grey', attrs=['bold'])\n",
    "print(StartGame)"
   ]
  },
  {
   "cell_type": "code",
   "execution_count": null,
   "id": "06453529",
   "metadata": {},
   "outputs": [],
   "source": [
    "ListOfwords=[]\n",
    "for i in words:\n",
    "    if len(i)==5 :\n",
    "        ListOfwords.append(i.lower())\n",
    "        \n",
    "SetOfWords= set(ListOfwords)"
   ]
  },
  {
   "cell_type": "code",
   "execution_count": null,
   "id": "3d82610d",
   "metadata": {},
   "outputs": [],
   "source": [
    "def List_cleaner(l):  \n",
    "    clean_list=[]\n",
    "    for z in l:\n",
    "        if z =='' or z==' ':\n",
    "            continue\n",
    "        else:\n",
    "            clean_list.append(z)\n",
    "    return clean_list"
   ]
  },
  {
   "cell_type": "code",
   "execution_count": null,
   "id": "8b249a85",
   "metadata": {},
   "outputs": [],
   "source": [
    "def Check_Letters():\n",
    "    Temp_ListOfwords_in=[]\n",
    "    for j in SetOfWords:\n",
    "        flag= True\n",
    "        for k in (letterinStr_Seprate):\n",
    "            if k not in j:\n",
    "                flag= False\n",
    "                break\n",
    "            else: \n",
    "                continue\n",
    "        if flag:\n",
    "            Temp_ListOfwords_in.append(j)\n",
    "    \n",
    "    Temp_ListOfwords_notin=[]\n",
    "    for j in Temp_ListOfwords_in:\n",
    "        flag= True\n",
    "        for k in (letternotinStr_Seprate):\n",
    "            if k in j:\n",
    "                flag= False\n",
    "                break\n",
    "            else: \n",
    "                continue\n",
    "        if flag:\n",
    "            Temp_ListOfwords_notin.append(j)\n",
    "            \n",
    "    print(colored('Use one of these words: \\n', 'red', attrs=['bold'])) \n",
    "    \n",
    "    grouped = [Temp_ListOfwords_notin[i:i+5] for i in range(0, len(Temp_ListOfwords_notin), 5)]\n",
    "    for l in grouped:\n",
    "        print (\"\".join(\"{:<10}\".format(x) for x in l))\n",
    "    \n"
   ]
  },
  {
   "cell_type": "code",
   "execution_count": null,
   "id": "40e0a3a8",
   "metadata": {
    "scrolled": false
   },
   "outputs": [],
   "source": [
    "time.sleep(7)\n",
    "\n",
    "letterinStr= str(input(colored('Please Enter letters that are in the string with space between if nothing just press enter:', 'blue', attrs=['bold'])))\n",
    "lettersnotinStr= str(input(colored('Please Enter letters that are not in the string with space between if nothing just press enter:', 'blue', attrs=['bold'])))"
   ]
  },
  {
   "cell_type": "code",
   "execution_count": null,
   "id": "c3947f2f",
   "metadata": {},
   "outputs": [],
   "source": [
    "letterinStr_Seprate= List_cleaner(letterinStr.split(' '))\n",
    "letternotinStr_Seprate= List_cleaner(lettersnotinStr.split(' '))"
   ]
  },
  {
   "cell_type": "code",
   "execution_count": null,
   "id": "fa514519",
   "metadata": {
    "scrolled": true
   },
   "outputs": [],
   "source": [
    "Check_Letters()\n",
    "time.sleep(7)"
   ]
  },
  {
   "cell_type": "code",
   "execution_count": null,
   "id": "fc03f282",
   "metadata": {},
   "outputs": [],
   "source": [
    "for i in range (6):\n",
    "    \n",
    "    instr= str(input(colored('Please Enter letters that are in the string with space between if nothing just press enter:\\n', 'blue', attrs=['bold'])))\n",
    "    notinstr= str(input(colored('Please Enter letters that are not in the string with space between if nothing just press enter:\\n', 'blue', attrs=['bold'])))\n",
    "    \n",
    "    instr_sprate= List_cleaner(instr.split(' '))\n",
    "    notinstr_seprate= List_cleaner(notinstr.split(' '))\n",
    "    \n",
    "    letterinStr_Seprate+=instr_sprate\n",
    "    letternotinStr_Seprate+=notinstr_seprate\n",
    "    \n",
    "    Check_Letters()\n",
    "    time.sleep(7)\n",
    "    \n",
    "    stopGame= str(input(colored('Did you reach the answer?(y/n)\\n','red', attrs=['bold'])))\n",
    "    if stopGame=='y':\n",
    "        print(colored('have a good day!!','red', attrs=['bold']))\n",
    "        break\n",
    "    else:\n",
    "        continue"
   ]
  },
  {
   "cell_type": "code",
   "execution_count": null,
   "id": "0b7e2771",
   "metadata": {},
   "outputs": [],
   "source": []
  },
  {
   "cell_type": "code",
   "execution_count": null,
   "id": "451e52e1",
   "metadata": {},
   "outputs": [],
   "source": []
  },
  {
   "cell_type": "code",
   "execution_count": null,
   "id": "c390ab6a",
   "metadata": {},
   "outputs": [],
   "source": []
  },
  {
   "cell_type": "code",
   "execution_count": null,
   "id": "5cfd4cb5",
   "metadata": {},
   "outputs": [],
   "source": []
  },
  {
   "cell_type": "code",
   "execution_count": null,
   "id": "7c02bff4",
   "metadata": {},
   "outputs": [],
   "source": []
  }
 ],
 "metadata": {
  "kernelspec": {
   "display_name": "Python 3 (ipykernel)",
   "language": "python",
   "name": "python3"
  },
  "language_info": {
   "codemirror_mode": {
    "name": "ipython",
    "version": 3
   },
   "file_extension": ".py",
   "mimetype": "text/x-python",
   "name": "python",
   "nbconvert_exporter": "python",
   "pygments_lexer": "ipython3",
   "version": "3.8.12"
  }
 },
 "nbformat": 4,
 "nbformat_minor": 5
}
