{
 "cells": [
  {
   "cell_type": "code",
   "execution_count": 1,
   "id": "7a7e8197",
   "metadata": {},
   "outputs": [],
   "source": [
    "import nltk\n",
    "import time\n",
    "from termcolor import colored"
   ]
  },
  {
   "cell_type": "code",
   "execution_count": 22,
   "id": "e18790e7",
   "metadata": {},
   "outputs": [
    {
     "name": "stderr",
     "output_type": "stream",
     "text": [
      "[nltk_data] Downloading package words to\n",
      "[nltk_data]     C:\\Users\\kasra\\AppData\\Roaming\\nltk_data...\n",
      "[nltk_data]   Package words is already up-to-date!\n"
     ]
    },
    {
     "data": {
      "text/plain": [
       "True"
      ]
     },
     "execution_count": 22,
     "metadata": {},
     "output_type": "execute_result"
    }
   ],
   "source": [
    "nltk.download('words')"
   ]
  },
  {
   "cell_type": "code",
   "execution_count": 34,
   "id": "902dc4a4",
   "metadata": {},
   "outputs": [],
   "source": [
    "from nltk.corpus import words\n",
    "all_words = words.words()\n",
    "five_letter_words = set([word.lower() for word in all_words if len(word) == 5])"
   ]
  },
  {
   "cell_type": "code",
   "execution_count": 35,
   "id": "31bfc762",
   "metadata": {},
   "outputs": [],
   "source": [
    "# Helper function to clean up user input\n",
    "def clean_input(input_list):\n",
    "    return [item.strip() for item in input_list if item.strip()]"
   ]
  },
  {
   "cell_type": "code",
   "execution_count": 36,
   "id": "16cc8fea",
   "metadata": {},
   "outputs": [],
   "source": [
    "# Function to filter words based on criteria\n",
    "def filter_words(positional_correct, positional_incorrect, present_letters, absent_letters):\n",
    "    filtered_words = []\n",
    "    for word in five_letter_words:\n",
    "        # Check if all letters in `present_letters` exist in the word\n",
    "        if not all(letter in word for letter in present_letters):\n",
    "            continue\n",
    "        \n",
    "        # Check if no letter in `absent_letters` exists in the word\n",
    "        if any(letter in word for letter in absent_letters):\n",
    "            continue\n",
    "        \n",
    "        # Check if letters in `positional_correct` match the exact positions\n",
    "        if not all(word[i] == letter for i, letter in enumerate(positional_correct) if letter != '0'):\n",
    "            continue\n",
    "        \n",
    "        # Check if letters in `positional_incorrect` are not in those positions\n",
    "        if any(word[i] == letter for i, letter in enumerate(positional_incorrect) if letter != '0'):\n",
    "            continue\n",
    "        \n",
    "        filtered_words.append(word)\n",
    "    \n",
    "    return filtered_words"
   ]
  },
  {
   "cell_type": "code",
   "execution_count": 37,
   "id": "d6337b3c",
   "metadata": {},
   "outputs": [
    {
     "name": "stdout",
     "output_type": "stream",
     "text": [
      "\u001b[1m\u001b[34mInstructions:\n",
      "1. Start with one of the suggested words.\n",
      "2. After each attempt, enter the feedback:\n",
      "   - Exact matches (correct letters in correct positions).\n",
      "   - Letters in the word but in wrong positions.\n",
      "   - Letters not in the word.\n",
      "3. Repeat until you find the answer.\n",
      "\u001b[0m\n"
     ]
    }
   ],
   "source": [
    "instructions = colored(\n",
    "    \"Instructions:\\n\"\n",
    "    \"1. Start with one of the suggested words.\\n\"\n",
    "    \"2. After each attempt, enter the feedback:\\n\"\n",
    "    \"   - Exact matches (correct letters in correct positions).\\n\"\n",
    "    \"   - Letters in the word but in wrong positions.\\n\"\n",
    "    \"   - Letters not in the word.\\n\"\n",
    "    \"3. Repeat until you find the answer.\\n\", \n",
    "    'blue', attrs=['bold']\n",
    ")\n",
    "print(instructions)"
   ]
  },
  {
   "cell_type": "code",
   "execution_count": 38,
   "id": "c3dd288b",
   "metadata": {},
   "outputs": [
    {
     "name": "stdout",
     "output_type": "stream",
     "text": [
      "\u001b[1m\u001b[32mStart with one of these words:\n",
      "\n",
      "anise\n",
      "agile\n",
      "aisle\n",
      "aides\n",
      "abide\u001b[0m\n"
     ]
    }
   ],
   "source": [
    "start_message = colored(\n",
    "    \"Start with one of these words:\\n\\nanise\\nagile\\naisle\\naides\\nabide\", \n",
    "    'green', attrs=['bold']\n",
    ")\n",
    "print(start_message)"
   ]
  },
  {
   "cell_type": "code",
   "execution_count": 39,
   "id": "172848a5",
   "metadata": {},
   "outputs": [],
   "source": [
    "# Initialize lists for game logic\n",
    "exact_positions = ['0', '0', '0', '0', '0']  # Correct letters in the correct positions\n",
    "incorrect_positions = ['0', '0', '0', '0', '0']  # Letters in the wrong positions\n",
    "present_letters = []  # Letters that are in the word\n",
    "absent_letters = []  # Letters that are not in the word"
   ]
  },
  {
   "cell_type": "code",
   "execution_count": 40,
   "id": "66877ded",
   "metadata": {},
   "outputs": [
    {
     "name": "stdout",
     "output_type": "stream",
     "text": [
      "\u001b[1m\u001b[33mAttempt 1:\u001b[0m\n",
      "\u001b[1m\u001b[32mTry one of these words:\u001b[0m\n",
      "filch       miffy       vinta       lippy       bichy     \n",
      "sixte       cilia       kioea       tippy       sicel     \n",
      "sissy       hippo       nisse       sinto       misky     \n",
      "milch       bixin       nisei       linja       witch     \n",
      "kiowa       silex       killy       nikko       nintu     \n",
      "piaba       lipan       titus       biham       bilch     \n",
      "aizle       hithe       wizen       pitta       nixie     \n",
      "simon       fikie       nikau       situs       niuan     \n",
      "ticca       bitis       lithi       bitch       kiaki     \n",
      "mitty       nitty       zimmi       nitch       since     \n",
      "piece       binna       tibbu       nival       kizil     \n",
      "linha       pinic       vivax       pilot       limen     \n",
      "linen       pipil       linin       linie       mille     \n",
      "viola       mitch       vicki       sinus       visit     \n",
      "willy       sitta       pinon       jixie       fizzy     \n",
      "bibio       nilot       kilan       aillt       vinal     \n",
      "biose       kilim       kilah       cista       kiyas     \n",
      "titty       pinax       sieva       kimmo       tilia     \n",
      "linea       sinae       sibyl       niche       pikey     \n",
      "viuva       citee       aimak       kithe       liven     \n",
      "tibia       simal       tiple       ninth       pinus     \n",
      "pical       wiyot       limmu       sieve       kieye     \n",
      "sievy       tibey       filix       pipit       hiate     \n",
      "sixty       siusi       fifty       niels       liesh     \n",
      "withe       vince       kiosk       nicol       simia     \n",
      "winna       tinea       litch       misty       bisti     \n",
      "bizen       pivot       picul       bihai       pinal     \n",
      "fives       cinel       civet       licca       pinte     \n",
      "vista       visto       milla       miaow       nifle     \n",
      "jinny       nieve       bilin       pippy       fitch     \n",
      "niton       niece       silyl       ninja       pitau     \n",
      "wisht       nisan       linum       vijao       miaul     \n",
      "liwan       ville       kinah       hinch       pisan     \n",
      "pikel       miles       linje       wince       cimex     \n",
      "tinct       hiant       times       vison       linus     \n",
      "niall       limsy       links       niobe       tinty     \n",
      "ficus       titan       lifey       miche       vixen     \n",
      "finch       liana       uinta       zippy       winze     \n",
      "pioxe       filmy       bilby       hilsa       aisle     \n",
      "pilin       milly       hienz       mitis       sisel     \n",
      "sinal       milky       fitly       mitua       bilbo     \n",
      "kippy       nisus       fifth       fiche       pixie     \n",
      "milpa       pilmy       nifty       tizzy       sithe     \n",
      "sitch       oisin       libby       sissu       lisle     \n",
      "limbo       lipin       biota       sizal       limes     \n",
      "mizzy       sitio       piezo       silen       milha     \n",
      "kiswa       wiyat       hinau       mixen       civic     \n",
      "bikol       pithy       limma       ticky       biune     \n",
      "tibby       nific       tipsy       lithy       sinic     \n",
      "yinst       silty       tilly       milan       linet     \n",
      "piano       limbu       kitab       piman       vitta     \n",
      "linty       cinct       lithe       witty       hilly     \n",
      "kiwai       linky       wisha       micht       sibby     \n",
      "picot       nicky       limey       hilum       hispa     \n",
      "mines       sinky       siena       wispy       sitka     \n",
      "withy       pitch       kioko       tipup       mikie     \n",
      "wiste       tiffy       milty       niota       siket     \n",
      "kileh       pinto       nippy       ninut       fishy     \n",
      "fique       limpy       filly       silly       filth     \n",
      "litho       biabo       ainoi       visie       vives     \n",
      "kibei       jiboa       mimeo       pilus       hilus     \n",
      "sintu       winly       likin       piety       wicky     \n",
      "sicca       miasm       kitty       tinta       kinch     \n",
      "minos       pilch       hilch       vibex       silas     \n",
      "eimak       finny       litus       pinny       tibet     \n",
      "viewy       minus       pilum       kishy       pilau     \n",
      "picea       pisay       hippy       kiack       jimmy     \n",
      "jibby       kikki       fitty       bilsh       linch     \n",
      "pilon       limit       timne       ziffs       sioux     \n",
      "ninny       pious       fichu       mimic       kinky     \n",
      "picky       sivan       fifie       picae       sifac     \n",
      "filet       civvy       nihal       silky       tical     \n",
      "linne       pisky       tilty       tinne       sisal     \n",
      "limax       zinco       missy       vivek       cinch     \n",
      "micky       ticul       zimme       timbo       linos     \n",
      "lichi       aitch       limby       pilea       piles     \n",
      "lieue       fisty       jinni       civil       hippa     \n",
      "pisum       bitty       liken       lieve       vinea     \n",
      "vinic       zimbi       citua       xinca       cisco     \n",
      "hinny       bilio       title       minty       aiwan     \n",
      "vicia       sinew       billa       wisen       jiffy     \n",
      "jiqui       vicky       aimee       vitis       mimly     \n",
      "picus       vijay       sizes       winch       pishu     \n",
      "minny       wifie       vinyl       uinal       zizia     \n",
      "witan       libel       xicak       pisco       pinky     \n",
      "nimbi       cibol       yince       tiwaz       finis     \n",
      "tilth       liman       biome       pipal       final     \n",
      "ninox       litas       fient       timbe       bilic     \n",
      "piete       billy       ninon       piney       wisse     \n",
      "silva       vinny       pinch       niata       sixth     \n",
      "tikka       licit       kiley       pikle       jinks     \n",
      "hives       wicht       visne       pinna       minim     \n",
      "timon       mimus       tinny       ailie       pichi     \n",
      "sitao       filao       siwan       piast       bijou     \n",
      "mikey       pinta       pipet       pizza       pinyl     \n",
      "miami       bizet       zilla       nizam       binal     \n",
      "lilac       minot       mince       zibet       kitan     \n",
      "tinni       vital       nibby       tithe       bible     \n",
      "linon       vimen       hitch       villa       micah     \n",
      "bison       vibix       niepa       kissy       pique     \n",
      "jinja     \n",
      "\u001b[1m\u001b[32mCongratulations! Have a great day!\u001b[0m\n"
     ]
    }
   ],
   "source": [
    "# Game loop\n",
    "for attempt in range(6):\n",
    "    print(colored(f\"Attempt {attempt + 1}:\", 'yellow', attrs=['bold']))\n",
    "\n",
    "    # Get feedback from the user\n",
    "    exact_positions = list(input(colored(\n",
    "        \"Enter the correct positions (e.g., 'a00le' for 'a' at position 1, 'l' at position 4):\\n\", \n",
    "        'blue', attrs=['bold']\n",
    "    )))\n",
    "    incorrect_positions = list(input(colored(\n",
    "        \"Enter the wrong positions (e.g., '0g00e' where 'g' and 'e' are not in these positions):\\n\", \n",
    "        'blue', attrs=['bold']\n",
    "    )))\n",
    "    \n",
    "    present_input = input(colored(\n",
    "        \"Enter letters that are in the word, separated by spaces (press Enter if none):\\n\", \n",
    "        'blue', attrs=['bold']\n",
    "    ))\n",
    "    absent_input = input(colored(\n",
    "        \"Enter letters that are NOT in the word, separated by spaces (press Enter if none):\\n\", \n",
    "        'blue', attrs=['bold']\n",
    "    ))\n",
    "    \n",
    "    # Update letter lists\n",
    "    present_letters += clean_input(present_input.split())\n",
    "    absent_letters += clean_input(absent_input.split())\n",
    "\n",
    "    # Filter words based on user feedback\n",
    "    suggestions = filter_words(exact_positions, incorrect_positions, present_letters, absent_letters)\n",
    "    \n",
    "    # Display suggestions\n",
    "    if suggestions:\n",
    "        print(colored(\"Try one of these words:\", 'green', attrs=['bold']))\n",
    "        for i in range(0, len(suggestions), 5):\n",
    "            print(\"  \".join(f\"{word:<10}\" for word in suggestions[i:i + 5]))\n",
    "    else:\n",
    "        print(colored(\"No valid words found. Check your inputs!\", 'red', attrs=['bold']))\n",
    "\n",
    "    # Check if the game is complete\n",
    "    stop_game = input(colored(\"Did you find the correct word? (y/n):\\n\", 'red', attrs=['bold']))\n",
    "    if stop_game.lower() == 'y':\n",
    "        print(colored(\"Congratulations! Have a great day!\", 'green', attrs=['bold']))\n",
    "        break\n",
    "else:\n",
    "    print(colored(\"Game over. Better luck next time!\", 'red', attrs=['bold']))"
   ]
  },
  {
   "cell_type": "code",
   "execution_count": null,
   "id": "f4ca6f9d",
   "metadata": {},
   "outputs": [],
   "source": []
  },
  {
   "cell_type": "code",
   "execution_count": null,
   "id": "93cd62b0",
   "metadata": {},
   "outputs": [],
   "source": []
  },
  {
   "cell_type": "code",
   "execution_count": null,
   "id": "9553f04a",
   "metadata": {},
   "outputs": [],
   "source": []
  }
 ],
 "metadata": {
  "kernelspec": {
   "display_name": "base",
   "language": "python",
   "name": "python3"
  },
  "language_info": {
   "codemirror_mode": {
    "name": "ipython",
    "version": 3
   },
   "file_extension": ".py",
   "mimetype": "text/x-python",
   "name": "python",
   "nbconvert_exporter": "python",
   "pygments_lexer": "ipython3",
   "version": "3.12.7"
  }
 },
 "nbformat": 4,
 "nbformat_minor": 5
}
